{
 "metadata": {
  "language_info": {
   "codemirror_mode": {
    "name": "ipython",
    "version": 3
   },
   "file_extension": ".py",
   "mimetype": "text/x-python",
   "name": "python",
   "nbconvert_exporter": "python",
   "pygments_lexer": "ipython3",
   "version": "3.8.3-final"
  },
  "orig_nbformat": 2,
  "kernelspec": {
   "name": "python3",
   "display_name": "Python 3.8.3 64-bit (conda)",
   "metadata": {
    "interpreter": {
     "hash": "39c9a9e684396029fa370fa384fa94292875d32367b3275c2c64de45029e0792"
    }
   }
  }
 },
 "nbformat": 4,
 "nbformat_minor": 2,
 "cells": [
  {
   "cell_type": "code",
   "execution_count": 6,
   "metadata": {},
   "outputs": [],
   "source": [
    "import pandas as pd \n",
    "import numpy as np \n",
    "import time\n",
    "import sklearn\n",
    "from sklearn.linear_model import LogisticRegression\n"
   ]
  },
  {
   "cell_type": "code",
   "execution_count": 3,
   "metadata": {},
   "outputs": [
    {
     "output_type": "execute_result",
     "data": {
      "text/plain": [
       "     image_id  5_o_Clock_Shadow  Arched_Eyebrows  Attractive  Bags_Under_Eyes  \\\n",
       "0  000001.jpg                -1                1           1               -1   \n",
       "1  000002.jpg                -1               -1          -1                1   \n",
       "2  000003.jpg                -1               -1          -1               -1   \n",
       "3  000004.jpg                -1               -1           1               -1   \n",
       "4  000005.jpg                -1                1           1               -1   \n",
       "\n",
       "   Bald  Bangs  Big_Lips  Big_Nose  Black_Hair  ...  Sideburns  Smiling  \\\n",
       "0    -1     -1        -1        -1          -1  ...         -1        1   \n",
       "1    -1     -1        -1         1          -1  ...         -1        1   \n",
       "2    -1     -1         1        -1          -1  ...         -1       -1   \n",
       "3    -1     -1        -1        -1          -1  ...         -1       -1   \n",
       "4    -1     -1         1        -1          -1  ...         -1       -1   \n",
       "\n",
       "   Straight_Hair  Wavy_Hair  Wearing_Earrings  Wearing_Hat  Wearing_Lipstick  \\\n",
       "0              1         -1                 1           -1                 1   \n",
       "1             -1         -1                -1           -1                -1   \n",
       "2             -1          1                -1           -1                -1   \n",
       "3              1         -1                 1           -1                 1   \n",
       "4             -1         -1                -1           -1                 1   \n",
       "\n",
       "   Wearing_Necklace  Wearing_Necktie  Young  \n",
       "0                -1               -1      1  \n",
       "1                -1               -1      1  \n",
       "2                -1               -1      1  \n",
       "3                 1               -1      1  \n",
       "4                -1               -1      1  \n",
       "\n",
       "[5 rows x 41 columns]"
      ],
      "text/html": "<div>\n<style scoped>\n    .dataframe tbody tr th:only-of-type {\n        vertical-align: middle;\n    }\n\n    .dataframe tbody tr th {\n        vertical-align: top;\n    }\n\n    .dataframe thead th {\n        text-align: right;\n    }\n</style>\n<table border=\"1\" class=\"dataframe\">\n  <thead>\n    <tr style=\"text-align: right;\">\n      <th></th>\n      <th>image_id</th>\n      <th>5_o_Clock_Shadow</th>\n      <th>Arched_Eyebrows</th>\n      <th>Attractive</th>\n      <th>Bags_Under_Eyes</th>\n      <th>Bald</th>\n      <th>Bangs</th>\n      <th>Big_Lips</th>\n      <th>Big_Nose</th>\n      <th>Black_Hair</th>\n      <th>...</th>\n      <th>Sideburns</th>\n      <th>Smiling</th>\n      <th>Straight_Hair</th>\n      <th>Wavy_Hair</th>\n      <th>Wearing_Earrings</th>\n      <th>Wearing_Hat</th>\n      <th>Wearing_Lipstick</th>\n      <th>Wearing_Necklace</th>\n      <th>Wearing_Necktie</th>\n      <th>Young</th>\n    </tr>\n  </thead>\n  <tbody>\n    <tr>\n      <th>0</th>\n      <td>000001.jpg</td>\n      <td>-1</td>\n      <td>1</td>\n      <td>1</td>\n      <td>-1</td>\n      <td>-1</td>\n      <td>-1</td>\n      <td>-1</td>\n      <td>-1</td>\n      <td>-1</td>\n      <td>...</td>\n      <td>-1</td>\n      <td>1</td>\n      <td>1</td>\n      <td>-1</td>\n      <td>1</td>\n      <td>-1</td>\n      <td>1</td>\n      <td>-1</td>\n      <td>-1</td>\n      <td>1</td>\n    </tr>\n    <tr>\n      <th>1</th>\n      <td>000002.jpg</td>\n      <td>-1</td>\n      <td>-1</td>\n      <td>-1</td>\n      <td>1</td>\n      <td>-1</td>\n      <td>-1</td>\n      <td>-1</td>\n      <td>1</td>\n      <td>-1</td>\n      <td>...</td>\n      <td>-1</td>\n      <td>1</td>\n      <td>-1</td>\n      <td>-1</td>\n      <td>-1</td>\n      <td>-1</td>\n      <td>-1</td>\n      <td>-1</td>\n      <td>-1</td>\n      <td>1</td>\n    </tr>\n    <tr>\n      <th>2</th>\n      <td>000003.jpg</td>\n      <td>-1</td>\n      <td>-1</td>\n      <td>-1</td>\n      <td>-1</td>\n      <td>-1</td>\n      <td>-1</td>\n      <td>1</td>\n      <td>-1</td>\n      <td>-1</td>\n      <td>...</td>\n      <td>-1</td>\n      <td>-1</td>\n      <td>-1</td>\n      <td>1</td>\n      <td>-1</td>\n      <td>-1</td>\n      <td>-1</td>\n      <td>-1</td>\n      <td>-1</td>\n      <td>1</td>\n    </tr>\n    <tr>\n      <th>3</th>\n      <td>000004.jpg</td>\n      <td>-1</td>\n      <td>-1</td>\n      <td>1</td>\n      <td>-1</td>\n      <td>-1</td>\n      <td>-1</td>\n      <td>-1</td>\n      <td>-1</td>\n      <td>-1</td>\n      <td>...</td>\n      <td>-1</td>\n      <td>-1</td>\n      <td>1</td>\n      <td>-1</td>\n      <td>1</td>\n      <td>-1</td>\n      <td>1</td>\n      <td>1</td>\n      <td>-1</td>\n      <td>1</td>\n    </tr>\n    <tr>\n      <th>4</th>\n      <td>000005.jpg</td>\n      <td>-1</td>\n      <td>1</td>\n      <td>1</td>\n      <td>-1</td>\n      <td>-1</td>\n      <td>-1</td>\n      <td>1</td>\n      <td>-1</td>\n      <td>-1</td>\n      <td>...</td>\n      <td>-1</td>\n      <td>-1</td>\n      <td>-1</td>\n      <td>-1</td>\n      <td>-1</td>\n      <td>-1</td>\n      <td>1</td>\n      <td>-1</td>\n      <td>-1</td>\n      <td>1</td>\n    </tr>\n  </tbody>\n</table>\n<p>5 rows × 41 columns</p>\n</div>"
     },
     "metadata": {},
     "execution_count": 3
    }
   ],
   "source": [
    "# Read Attractness Attributes Table\n",
    "\n",
    "AttractnessTable = pd.read_csv('archive/list_attr_celeba.csv')\n"
   ]
  },
  {
   "cell_type": "code",
   "execution_count": 4,
   "metadata": {},
   "outputs": [
    {
     "output_type": "execute_result",
     "data": {
      "text/plain": [
       "   5_o_Clock_Shadow  Arched_Eyebrows  Bags_Under_Eyes  Bald  Bangs  Big_Lips  \\\n",
       "0                -1                1               -1    -1     -1        -1   \n",
       "1                -1               -1                1    -1     -1        -1   \n",
       "2                -1               -1               -1    -1     -1         1   \n",
       "3                -1               -1               -1    -1     -1        -1   \n",
       "4                -1                1               -1    -1     -1         1   \n",
       "\n",
       "   Big_Nose  Black_Hair  Blond_Hair  Blurry  ...  Sideburns  Smiling  \\\n",
       "0        -1          -1          -1      -1  ...         -1        1   \n",
       "1         1          -1          -1      -1  ...         -1        1   \n",
       "2        -1          -1          -1       1  ...         -1       -1   \n",
       "3        -1          -1          -1      -1  ...         -1       -1   \n",
       "4        -1          -1          -1      -1  ...         -1       -1   \n",
       "\n",
       "   Straight_Hair  Wavy_Hair  Wearing_Earrings  Wearing_Hat  Wearing_Lipstick  \\\n",
       "0              1         -1                 1           -1                 1   \n",
       "1             -1         -1                -1           -1                -1   \n",
       "2             -1          1                -1           -1                -1   \n",
       "3              1         -1                 1           -1                 1   \n",
       "4             -1         -1                -1           -1                 1   \n",
       "\n",
       "   Wearing_Necklace  Wearing_Necktie  Young  \n",
       "0                -1               -1      1  \n",
       "1                -1               -1      1  \n",
       "2                -1               -1      1  \n",
       "3                 1               -1      1  \n",
       "4                -1               -1      1  \n",
       "\n",
       "[5 rows x 39 columns]"
      ],
      "text/html": "<div>\n<style scoped>\n    .dataframe tbody tr th:only-of-type {\n        vertical-align: middle;\n    }\n\n    .dataframe tbody tr th {\n        vertical-align: top;\n    }\n\n    .dataframe thead th {\n        text-align: right;\n    }\n</style>\n<table border=\"1\" class=\"dataframe\">\n  <thead>\n    <tr style=\"text-align: right;\">\n      <th></th>\n      <th>5_o_Clock_Shadow</th>\n      <th>Arched_Eyebrows</th>\n      <th>Bags_Under_Eyes</th>\n      <th>Bald</th>\n      <th>Bangs</th>\n      <th>Big_Lips</th>\n      <th>Big_Nose</th>\n      <th>Black_Hair</th>\n      <th>Blond_Hair</th>\n      <th>Blurry</th>\n      <th>...</th>\n      <th>Sideburns</th>\n      <th>Smiling</th>\n      <th>Straight_Hair</th>\n      <th>Wavy_Hair</th>\n      <th>Wearing_Earrings</th>\n      <th>Wearing_Hat</th>\n      <th>Wearing_Lipstick</th>\n      <th>Wearing_Necklace</th>\n      <th>Wearing_Necktie</th>\n      <th>Young</th>\n    </tr>\n  </thead>\n  <tbody>\n    <tr>\n      <th>0</th>\n      <td>-1</td>\n      <td>1</td>\n      <td>-1</td>\n      <td>-1</td>\n      <td>-1</td>\n      <td>-1</td>\n      <td>-1</td>\n      <td>-1</td>\n      <td>-1</td>\n      <td>-1</td>\n      <td>...</td>\n      <td>-1</td>\n      <td>1</td>\n      <td>1</td>\n      <td>-1</td>\n      <td>1</td>\n      <td>-1</td>\n      <td>1</td>\n      <td>-1</td>\n      <td>-1</td>\n      <td>1</td>\n    </tr>\n    <tr>\n      <th>1</th>\n      <td>-1</td>\n      <td>-1</td>\n      <td>1</td>\n      <td>-1</td>\n      <td>-1</td>\n      <td>-1</td>\n      <td>1</td>\n      <td>-1</td>\n      <td>-1</td>\n      <td>-1</td>\n      <td>...</td>\n      <td>-1</td>\n      <td>1</td>\n      <td>-1</td>\n      <td>-1</td>\n      <td>-1</td>\n      <td>-1</td>\n      <td>-1</td>\n      <td>-1</td>\n      <td>-1</td>\n      <td>1</td>\n    </tr>\n    <tr>\n      <th>2</th>\n      <td>-1</td>\n      <td>-1</td>\n      <td>-1</td>\n      <td>-1</td>\n      <td>-1</td>\n      <td>1</td>\n      <td>-1</td>\n      <td>-1</td>\n      <td>-1</td>\n      <td>1</td>\n      <td>...</td>\n      <td>-1</td>\n      <td>-1</td>\n      <td>-1</td>\n      <td>1</td>\n      <td>-1</td>\n      <td>-1</td>\n      <td>-1</td>\n      <td>-1</td>\n      <td>-1</td>\n      <td>1</td>\n    </tr>\n    <tr>\n      <th>3</th>\n      <td>-1</td>\n      <td>-1</td>\n      <td>-1</td>\n      <td>-1</td>\n      <td>-1</td>\n      <td>-1</td>\n      <td>-1</td>\n      <td>-1</td>\n      <td>-1</td>\n      <td>-1</td>\n      <td>...</td>\n      <td>-1</td>\n      <td>-1</td>\n      <td>1</td>\n      <td>-1</td>\n      <td>1</td>\n      <td>-1</td>\n      <td>1</td>\n      <td>1</td>\n      <td>-1</td>\n      <td>1</td>\n    </tr>\n    <tr>\n      <th>4</th>\n      <td>-1</td>\n      <td>1</td>\n      <td>-1</td>\n      <td>-1</td>\n      <td>-1</td>\n      <td>1</td>\n      <td>-1</td>\n      <td>-1</td>\n      <td>-1</td>\n      <td>-1</td>\n      <td>...</td>\n      <td>-1</td>\n      <td>-1</td>\n      <td>-1</td>\n      <td>-1</td>\n      <td>-1</td>\n      <td>-1</td>\n      <td>1</td>\n      <td>-1</td>\n      <td>-1</td>\n      <td>1</td>\n    </tr>\n  </tbody>\n</table>\n<p>5 rows × 39 columns</p>\n</div>"
     },
     "metadata": {},
     "execution_count": 4
    }
   ],
   "source": [
    "predictorDataSet =  AttractnessTable.drop(['image_id', 'Attractive'], axis=1)\n",
    "targetValue = AttractnessTable['Attractive']"
   ]
  },
  {
   "cell_type": "code",
   "execution_count": 70,
   "metadata": {},
   "outputs": [],
   "source": [
    "# colIx of the values used to train the model \n",
    "colIx = []\n",
    "# dictionary with all the values\n",
    "coldict = {}  \n",
    "\n",
    "for col in predictorDataSet.columns:\n",
    "    #for each col in the Dataset add the col in the col index to use to train\n",
    "    colIx.append(str(col))\n",
    "    # list of time values\n",
    "    values = []\n",
    "    \n",
    "    \n",
    "    for ter in range(1,4):\n",
    "        #for each 1/3 of the records to predict\n",
    "        meanvalue = []\n",
    "        for x in range(0, 2):\n",
    "            # Run the predictor 10000 values to have a mean value \n",
    "\n",
    "            predictorData = predictorDataSet.loc[0:ter*(len(predictorDataSet)/3),colIx]\n",
    "            target = targetValue.loc[0:ter*(len(targetValue)/3)]\n",
    "            \n",
    "            start = time.time()\n",
    "            clf = LogisticRegression(random_state=0).fit(predictorData, target)\n",
    "            end = time.time()\n",
    "            # print(end - start)\n",
    "            meanvalue.append(end - start)\n",
    "\n",
    "        values.append(sum(meanvalue)/2)\n",
    "        \n",
    "    coldict[len(colIx)] = values\n",
    "    "
   ]
  },
  {
   "cell_type": "code",
   "execution_count": 71,
   "metadata": {},
   "outputs": [
    {
     "output_type": "execute_result",
     "data": {
      "text/plain": [
       "{1: [0.04805707931518555, 0.06906247138977051, 0.11818540096282959],\n",
       " 2: [0.04787170886993408, 0.1229255199432373, 0.1770263910293579],\n",
       " 3: [0.047873616218566895, 0.12715840339660645, 0.17603051662445068],\n",
       " 4: [0.06184256076812744, 0.16605699062347412, 0.22440779209136963],\n",
       " 5: [0.07928836345672607, 0.21992278099060059, 0.3473266363143921],\n",
       " 6: [0.08926117420196533, 0.2221604585647583, 0.31786227226257324],\n",
       " 7: [0.08702218532562256, 0.1919875144958496, 0.3515700101852417],\n",
       " 8: [0.07579803466796875, 0.20769774913787842, 0.296970009803772],\n",
       " 9: [0.09075701236724854, 0.2510817050933838, 0.40467822551727295],\n",
       " 10: [0.10023212432861328, 0.30593645572662354, 0.41888129711151123],\n",
       " 11: [0.10697174072265625, 0.28324878215789795, 0.41040289402008057],\n",
       " 12: [0.10347950458526611, 0.30817556381225586, 0.46534693241119385],\n",
       " 13: [0.17752540111541748, 0.36267924308776855, 0.5779546499252319],\n",
       " 14: [0.22440838813781738, 0.4929462671279907, 0.8492497205734253],\n",
       " 15: [0.23837316036224365, 0.5474725961685181, 0.7659517526626587],\n",
       " 16: [0.16605699062347412, 0.6206048727035522, 0.9198051691055298],\n",
       " 17: [0.2730245590209961, 0.6305241584777832, 1.1629563570022583],\n",
       " 18: [0.2478393316268921, 0.7552345991134644, 1.0530153512954712],\n",
       " 19: [0.27451813220977783, 0.5807079076766968, 0.9507099390029907],\n",
       " 20: [0.275762677192688, 0.7744394540786743, 1.3336955308914185],\n",
       " 21: [0.3438347578048706, 0.755488395690918, 1.2551486492156982],\n",
       " 22: [0.40142619609832764, 0.7594774961471558, 1.1915507316589355],\n",
       " 23: [0.32388830184936523, 0.902348518371582, 1.2002967596054077],\n",
       " 24: [0.26130449771881104, 0.7597298622131348, 1.2105274200439453],\n",
       " 25: [0.31341660022735596, 1.0399731397628784, 1.228290319442749],\n",
       " 26: [0.38147997856140137, 0.9492796659469604, 1.377576231956482],\n",
       " 27: [0.2837411165237427, 0.8654615879058838, 1.300589680671692],\n",
       " 28: [0.29670655727386475, 0.9686639308929443, 1.2259843349456787],\n",
       " 29: [0.3435804843902588, 0.8743479251861572, 1.2693780660629272],\n",
       " 30: [0.4196324348449707, 0.9312732219696045, 1.2800867557525635],\n",
       " 31: [0.376001238822937, 0.8821529150009155, 1.3474069833755493],\n",
       " 32: [0.4131481647491455, 0.9836326837539673, 1.3970232009887695],\n",
       " 33: [0.3742561340332031, 1.075644612312317, 1.3546456098556519],\n",
       " 34: [0.3867204189300537, 0.98238205909729, 1.3242233991622925],\n",
       " 35: [0.38223159313201904, 0.8821405172348022, 1.4473917484283447],\n",
       " 36: [0.42923080921173096, 0.9718817472457886, 1.8666893243789673],\n",
       " 37: [0.40916121006011963, 1.1751123666763306, 1.581042766571045],\n",
       " 38: [0.6168344020843506, 1.0932108163833618, 1.5927506685256958],\n",
       " 39: [0.4739893674850464, 1.2858413457870483, 1.6786272525787354]}"
      ]
     },
     "metadata": {},
     "execution_count": 71
    }
   ],
   "source": [
    "coldict"
   ]
  }
 ]
}